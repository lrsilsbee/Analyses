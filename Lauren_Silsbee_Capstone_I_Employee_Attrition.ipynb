{
  "nbformat": 4,
  "nbformat_minor": 0,
  "metadata": {
    "colab": {
      "name": "Lauren Silsbee: Capstone I: Employee Attrition",
      "provenance": [],
      "collapsed_sections": [],
      "authorship_tag": "ABX9TyPs0x8u0XekeMMsM7CntYgm",
      "include_colab_link": true
    },
    "kernelspec": {
      "name": "python3",
      "display_name": "Python 3"
    }
  },
  "cells": [
    {
      "cell_type": "markdown",
      "metadata": {
        "id": "view-in-github",
        "colab_type": "text"
      },
      "source": [
        "<a href=\"https://colab.research.google.com/github/lrsilsbee/Analysis/blob/main/Lauren_Silsbee_Capstone_I_Employee_Attrition.ipynb\" target=\"_parent\"><img src=\"https://colab.research.google.com/assets/colab-badge.svg\" alt=\"Open In Colab\"/></a>"
      ]
    },
    {
      "cell_type": "code",
      "metadata": {
        "id": "aDuyEJc8iFFc",
        "colab": {
          "resources": {
            "http://localhost:8080/nbextensions/google.colab/files.js": {
              "data": "Ly8gQ29weXJpZ2h0IDIwMTcgR29vZ2xlIExMQwovLwovLyBMaWNlbnNlZCB1bmRlciB0aGUgQXBhY2hlIExpY2Vuc2UsIFZlcnNpb24gMi4wICh0aGUgIkxpY2Vuc2UiKTsKLy8geW91IG1heSBub3QgdXNlIHRoaXMgZmlsZSBleGNlcHQgaW4gY29tcGxpYW5jZSB3aXRoIHRoZSBMaWNlbnNlLgovLyBZb3UgbWF5IG9idGFpbiBhIGNvcHkgb2YgdGhlIExpY2Vuc2UgYXQKLy8KLy8gICAgICBodHRwOi8vd3d3LmFwYWNoZS5vcmcvbGljZW5zZXMvTElDRU5TRS0yLjAKLy8KLy8gVW5sZXNzIHJlcXVpcmVkIGJ5IGFwcGxpY2FibGUgbGF3IG9yIGFncmVlZCB0byBpbiB3cml0aW5nLCBzb2Z0d2FyZQovLyBkaXN0cmlidXRlZCB1bmRlciB0aGUgTGljZW5zZSBpcyBkaXN0cmlidXRlZCBvbiBhbiAiQVMgSVMiIEJBU0lTLAovLyBXSVRIT1VUIFdBUlJBTlRJRVMgT1IgQ09ORElUSU9OUyBPRiBBTlkgS0lORCwgZWl0aGVyIGV4cHJlc3Mgb3IgaW1wbGllZC4KLy8gU2VlIHRoZSBMaWNlbnNlIGZvciB0aGUgc3BlY2lmaWMgbGFuZ3VhZ2UgZ292ZXJuaW5nIHBlcm1pc3Npb25zIGFuZAovLyBsaW1pdGF0aW9ucyB1bmRlciB0aGUgTGljZW5zZS4KCi8qKgogKiBAZmlsZW92ZXJ2aWV3IEhlbHBlcnMgZm9yIGdvb2dsZS5jb2xhYiBQeXRob24gbW9kdWxlLgogKi8KKGZ1bmN0aW9uKHNjb3BlKSB7CmZ1bmN0aW9uIHNwYW4odGV4dCwgc3R5bGVBdHRyaWJ1dGVzID0ge30pIHsKICBjb25zdCBlbGVtZW50ID0gZG9jdW1lbnQuY3JlYXRlRWxlbWVudCgnc3BhbicpOwogIGVsZW1lbnQudGV4dENvbnRlbnQgPSB0ZXh0OwogIGZvciAoY29uc3Qga2V5IG9mIE9iamVjdC5rZXlzKHN0eWxlQXR0cmlidXRlcykpIHsKICAgIGVsZW1lbnQuc3R5bGVba2V5XSA9IHN0eWxlQXR0cmlidXRlc1trZXldOwogIH0KICByZXR1cm4gZWxlbWVudDsKfQoKLy8gTWF4IG51bWJlciBvZiBieXRlcyB3aGljaCB3aWxsIGJlIHVwbG9hZGVkIGF0IGEgdGltZS4KY29uc3QgTUFYX1BBWUxPQURfU0laRSA9IDEwMCAqIDEwMjQ7CgpmdW5jdGlvbiBfdXBsb2FkRmlsZXMoaW5wdXRJZCwgb3V0cHV0SWQpIHsKICBjb25zdCBzdGVwcyA9IHVwbG9hZEZpbGVzU3RlcChpbnB1dElkLCBvdXRwdXRJZCk7CiAgY29uc3Qgb3V0cHV0RWxlbWVudCA9IGRvY3VtZW50LmdldEVsZW1lbnRCeUlkKG91dHB1dElkKTsKICAvLyBDYWNoZSBzdGVwcyBvbiB0aGUgb3V0cHV0RWxlbWVudCB0byBtYWtlIGl0IGF2YWlsYWJsZSBmb3IgdGhlIG5leHQgY2FsbAogIC8vIHRvIHVwbG9hZEZpbGVzQ29udGludWUgZnJvbSBQeXRob24uCiAgb3V0cHV0RWxlbWVudC5zdGVwcyA9IHN0ZXBzOwoKICByZXR1cm4gX3VwbG9hZEZpbGVzQ29udGludWUob3V0cHV0SWQpOwp9CgovLyBUaGlzIGlzIHJvdWdobHkgYW4gYXN5bmMgZ2VuZXJhdG9yIChub3Qgc3VwcG9ydGVkIGluIHRoZSBicm93c2VyIHlldCksCi8vIHdoZXJlIHRoZXJlIGFyZSBtdWx0aXBsZSBhc3luY2hyb25vdXMgc3RlcHMgYW5kIHRoZSBQeXRob24gc2lkZSBpcyBnb2luZwovLyB0byBwb2xsIGZvciBjb21wbGV0aW9uIG9mIGVhY2ggc3RlcC4KLy8gVGhpcyB1c2VzIGEgUHJvbWlzZSB0byBibG9jayB0aGUgcHl0aG9uIHNpZGUgb24gY29tcGxldGlvbiBvZiBlYWNoIHN0ZXAsCi8vIHRoZW4gcGFzc2VzIHRoZSByZXN1bHQgb2YgdGhlIHByZXZpb3VzIHN0ZXAgYXMgdGhlIGlucHV0IHRvIHRoZSBuZXh0IHN0ZXAuCmZ1bmN0aW9uIF91cGxvYWRGaWxlc0NvbnRpbnVlKG91dHB1dElkKSB7CiAgY29uc3Qgb3V0cHV0RWxlbWVudCA9IGRvY3VtZW50LmdldEVsZW1lbnRCeUlkKG91dHB1dElkKTsKICBjb25zdCBzdGVwcyA9IG91dHB1dEVsZW1lbnQuc3RlcHM7CgogIGNvbnN0IG5leHQgPSBzdGVwcy5uZXh0KG91dHB1dEVsZW1lbnQubGFzdFByb21pc2VWYWx1ZSk7CiAgcmV0dXJuIFByb21pc2UucmVzb2x2ZShuZXh0LnZhbHVlLnByb21pc2UpLnRoZW4oKHZhbHVlKSA9PiB7CiAgICAvLyBDYWNoZSB0aGUgbGFzdCBwcm9taXNlIHZhbHVlIHRvIG1ha2UgaXQgYXZhaWxhYmxlIHRvIHRoZSBuZXh0CiAgICAvLyBzdGVwIG9mIHRoZSBnZW5lcmF0b3IuCiAgICBvdXRwdXRFbGVtZW50Lmxhc3RQcm9taXNlVmFsdWUgPSB2YWx1ZTsKICAgIHJldHVybiBuZXh0LnZhbHVlLnJlc3BvbnNlOwogIH0pOwp9CgovKioKICogR2VuZXJhdG9yIGZ1bmN0aW9uIHdoaWNoIGlzIGNhbGxlZCBiZXR3ZWVuIGVhY2ggYXN5bmMgc3RlcCBvZiB0aGUgdXBsb2FkCiAqIHByb2Nlc3MuCiAqIEBwYXJhbSB7c3RyaW5nfSBpbnB1dElkIEVsZW1lbnQgSUQgb2YgdGhlIGlucHV0IGZpbGUgcGlja2VyIGVsZW1lbnQuCiAqIEBwYXJhbSB7c3RyaW5nfSBvdXRwdXRJZCBFbGVtZW50IElEIG9mIHRoZSBvdXRwdXQgZGlzcGxheS4KICogQHJldHVybiB7IUl0ZXJhYmxlPCFPYmplY3Q+fSBJdGVyYWJsZSBvZiBuZXh0IHN0ZXBzLgogKi8KZnVuY3Rpb24qIHVwbG9hZEZpbGVzU3RlcChpbnB1dElkLCBvdXRwdXRJZCkgewogIGNvbnN0IGlucHV0RWxlbWVudCA9IGRvY3VtZW50LmdldEVsZW1lbnRCeUlkKGlucHV0SWQpOwogIGlucHV0RWxlbWVudC5kaXNhYmxlZCA9IGZhbHNlOwoKICBjb25zdCBvdXRwdXRFbGVtZW50ID0gZG9jdW1lbnQuZ2V0RWxlbWVudEJ5SWQob3V0cHV0SWQpOwogIG91dHB1dEVsZW1lbnQuaW5uZXJIVE1MID0gJyc7CgogIGNvbnN0IHBpY2tlZFByb21pc2UgPSBuZXcgUHJvbWlzZSgocmVzb2x2ZSkgPT4gewogICAgaW5wdXRFbGVtZW50LmFkZEV2ZW50TGlzdGVuZXIoJ2NoYW5nZScsIChlKSA9PiB7CiAgICAgIHJlc29sdmUoZS50YXJnZXQuZmlsZXMpOwogICAgfSk7CiAgfSk7CgogIGNvbnN0IGNhbmNlbCA9IGRvY3VtZW50LmNyZWF0ZUVsZW1lbnQoJ2J1dHRvbicpOwogIGlucHV0RWxlbWVudC5wYXJlbnRFbGVtZW50LmFwcGVuZENoaWxkKGNhbmNlbCk7CiAgY2FuY2VsLnRleHRDb250ZW50ID0gJ0NhbmNlbCB1cGxvYWQnOwogIGNvbnN0IGNhbmNlbFByb21pc2UgPSBuZXcgUHJvbWlzZSgocmVzb2x2ZSkgPT4gewogICAgY2FuY2VsLm9uY2xpY2sgPSAoKSA9PiB7CiAgICAgIHJlc29sdmUobnVsbCk7CiAgICB9OwogIH0pOwoKICAvLyBXYWl0IGZvciB0aGUgdXNlciB0byBwaWNrIHRoZSBmaWxlcy4KICBjb25zdCBmaWxlcyA9IHlpZWxkIHsKICAgIHByb21pc2U6IFByb21pc2UucmFjZShbcGlja2VkUHJvbWlzZSwgY2FuY2VsUHJvbWlzZV0pLAogICAgcmVzcG9uc2U6IHsKICAgICAgYWN0aW9uOiAnc3RhcnRpbmcnLAogICAgfQogIH07CgogIGNhbmNlbC5yZW1vdmUoKTsKCiAgLy8gRGlzYWJsZSB0aGUgaW5wdXQgZWxlbWVudCBzaW5jZSBmdXJ0aGVyIHBpY2tzIGFyZSBub3QgYWxsb3dlZC4KICBpbnB1dEVsZW1lbnQuZGlzYWJsZWQgPSB0cnVlOwoKICBpZiAoIWZpbGVzKSB7CiAgICByZXR1cm4gewogICAgICByZXNwb25zZTogewogICAgICAgIGFjdGlvbjogJ2NvbXBsZXRlJywKICAgICAgfQogICAgfTsKICB9CgogIGZvciAoY29uc3QgZmlsZSBvZiBmaWxlcykgewogICAgY29uc3QgbGkgPSBkb2N1bWVudC5jcmVhdGVFbGVtZW50KCdsaScpOwogICAgbGkuYXBwZW5kKHNwYW4oZmlsZS5uYW1lLCB7Zm9udFdlaWdodDogJ2JvbGQnfSkpOwogICAgbGkuYXBwZW5kKHNwYW4oCiAgICAgICAgYCgke2ZpbGUudHlwZSB8fCAnbi9hJ30pIC0gJHtmaWxlLnNpemV9IGJ5dGVzLCBgICsKICAgICAgICBgbGFzdCBtb2RpZmllZDogJHsKICAgICAgICAgICAgZmlsZS5sYXN0TW9kaWZpZWREYXRlID8gZmlsZS5sYXN0TW9kaWZpZWREYXRlLnRvTG9jYWxlRGF0ZVN0cmluZygpIDoKICAgICAgICAgICAgICAgICAgICAgICAgICAgICAgICAgICAgJ24vYSd9IC0gYCkpOwogICAgY29uc3QgcGVyY2VudCA9IHNwYW4oJzAlIGRvbmUnKTsKICAgIGxpLmFwcGVuZENoaWxkKHBlcmNlbnQpOwoKICAgIG91dHB1dEVsZW1lbnQuYXBwZW5kQ2hpbGQobGkpOwoKICAgIGNvbnN0IGZpbGVEYXRhUHJvbWlzZSA9IG5ldyBQcm9taXNlKChyZXNvbHZlKSA9PiB7CiAgICAgIGNvbnN0IHJlYWRlciA9IG5ldyBGaWxlUmVhZGVyKCk7CiAgICAgIHJlYWRlci5vbmxvYWQgPSAoZSkgPT4gewogICAgICAgIHJlc29sdmUoZS50YXJnZXQucmVzdWx0KTsKICAgICAgfTsKICAgICAgcmVhZGVyLnJlYWRBc0FycmF5QnVmZmVyKGZpbGUpOwogICAgfSk7CiAgICAvLyBXYWl0IGZvciB0aGUgZGF0YSB0byBiZSByZWFkeS4KICAgIGxldCBmaWxlRGF0YSA9IHlpZWxkIHsKICAgICAgcHJvbWlzZTogZmlsZURhdGFQcm9taXNlLAogICAgICByZXNwb25zZTogewogICAgICAgIGFjdGlvbjogJ2NvbnRpbnVlJywKICAgICAgfQogICAgfTsKCiAgICAvLyBVc2UgYSBjaHVua2VkIHNlbmRpbmcgdG8gYXZvaWQgbWVzc2FnZSBzaXplIGxpbWl0cy4gU2VlIGIvNjIxMTU2NjAuCiAgICBsZXQgcG9zaXRpb24gPSAwOwogICAgd2hpbGUgKHBvc2l0aW9uIDwgZmlsZURhdGEuYnl0ZUxlbmd0aCkgewogICAgICBjb25zdCBsZW5ndGggPSBNYXRoLm1pbihmaWxlRGF0YS5ieXRlTGVuZ3RoIC0gcG9zaXRpb24sIE1BWF9QQVlMT0FEX1NJWkUpOwogICAgICBjb25zdCBjaHVuayA9IG5ldyBVaW50OEFycmF5KGZpbGVEYXRhLCBwb3NpdGlvbiwgbGVuZ3RoKTsKICAgICAgcG9zaXRpb24gKz0gbGVuZ3RoOwoKICAgICAgY29uc3QgYmFzZTY0ID0gYnRvYShTdHJpbmcuZnJvbUNoYXJDb2RlLmFwcGx5KG51bGwsIGNodW5rKSk7CiAgICAgIHlpZWxkIHsKICAgICAgICByZXNwb25zZTogewogICAgICAgICAgYWN0aW9uOiAnYXBwZW5kJywKICAgICAgICAgIGZpbGU6IGZpbGUubmFtZSwKICAgICAgICAgIGRhdGE6IGJhc2U2NCwKICAgICAgICB9LAogICAgICB9OwogICAgICBwZXJjZW50LnRleHRDb250ZW50ID0KICAgICAgICAgIGAke01hdGgucm91bmQoKHBvc2l0aW9uIC8gZmlsZURhdGEuYnl0ZUxlbmd0aCkgKiAxMDApfSUgZG9uZWA7CiAgICB9CiAgfQoKICAvLyBBbGwgZG9uZS4KICB5aWVsZCB7CiAgICByZXNwb25zZTogewogICAgICBhY3Rpb246ICdjb21wbGV0ZScsCiAgICB9CiAgfTsKfQoKc2NvcGUuZ29vZ2xlID0gc2NvcGUuZ29vZ2xlIHx8IHt9OwpzY29wZS5nb29nbGUuY29sYWIgPSBzY29wZS5nb29nbGUuY29sYWIgfHwge307CnNjb3BlLmdvb2dsZS5jb2xhYi5fZmlsZXMgPSB7CiAgX3VwbG9hZEZpbGVzLAogIF91cGxvYWRGaWxlc0NvbnRpbnVlLAp9Owp9KShzZWxmKTsK",
              "ok": true,
              "headers": [
                [
                  "content-type",
                  "application/javascript"
                ]
              ],
              "status": 200,
              "status_text": ""
            }
          },
          "base_uri": "https://localhost:8080/",
          "height": 72
        },
        "outputId": "82603a7e-e4d0-4451-db22-0a3c205ae630"
      },
      "source": [
        "%matplotlib inline\n",
        "import pandas as pd\n",
        "import numpy as np\n",
        "import seaborn as sns\n",
        "from matplotlib import pyplot as plt\n",
        "from scipy import stats\n",
        "from google.colab import files\n",
        "uploaded = files.upload()"
      ],
      "execution_count": null,
      "outputs": [
        {
          "output_type": "display_data",
          "data": {
            "text/html": [
              "\n",
              "     <input type=\"file\" id=\"files-e38ed190-23a3-4ac8-9b26-5f162e4d5e6a\" name=\"files[]\" multiple disabled\n",
              "        style=\"border:none\" />\n",
              "     <output id=\"result-e38ed190-23a3-4ac8-9b26-5f162e4d5e6a\">\n",
              "      Upload widget is only available when the cell has been executed in the\n",
              "      current browser session. Please rerun this cell to enable.\n",
              "      </output>\n",
              "      <script src=\"/nbextensions/google.colab/files.js\"></script> "
            ],
            "text/plain": [
              "<IPython.core.display.HTML object>"
            ]
          },
          "metadata": {
            "tags": []
          }
        },
        {
          "output_type": "stream",
          "text": [
            "Saving WA_Fn-UseC_-HR-Employee-Attrition.csv to WA_Fn-UseC_-HR-Employee-Attrition.csv\n"
          ],
          "name": "stdout"
        }
      ]
    },
    {
      "cell_type": "code",
      "metadata": {
        "id": "0REHjf1KpnTC"
      },
      "source": [
        "import io\n",
        "IBM = pd.read_csv(io.StringIO(uploaded['WA_Fn-UseC_-HR-Employee-Attrition.csv'].decode('utf-8')))"
      ],
      "execution_count": null,
      "outputs": []
    },
    {
      "cell_type": "markdown",
      "metadata": {
        "id": "fC1A6v2z67BF"
      },
      "source": [
        "Introduction:\n",
        "A company wants to know if there is a significant difference between female and male employees in monthly income, job satisfaction, and percent salary hike to make sure that the company is treating its employees equally.\n",
        "\n",
        "Hypothesis:\n",
        "1 There is a statistically significance difference between female and male employees in monthly income\n",
        "2 There is a statistically significance difference between female and male employees in job satisfaction\n",
        "3 There is a statistically significance difference between female and male employees percent salary increase\n",
        "\n",
        "Data:\n",
        "This fictional dataset is from Kaggle and contains 1470 observations and 35 variables. There are no missing values. There are 882 male employees and 588 female employees included in the data.\n",
        "\n",
        "Methods:\n",
        "I created two data frames, one with all the data for female employees and a second containing all the data for male employees. I then compared these dataframes along multiple indicators: monthly income, job satisfaction, and percent salary increase. I first determined whether the variables were normally distributed (using histograms and skewness/kurtosis estimates). I then used Krustal and Mann Whitney U tests because the distributions did not seem to be normal."
      ]
    },
    {
      "cell_type": "code",
      "metadata": {
        "id": "ihSIDINkp2xM",
        "colab": {
          "base_uri": "https://localhost:8080/",
          "height": 646
        },
        "outputId": "0a6e2232-3d9f-43fb-8e46-af01bc15aaf5"
      },
      "source": [
        "print(IBM.shape)\n",
        "\n",
        "IBM['EmployeeNumber'].duplicated().any()\n",
        "#Returns False, can use EmployeeNumber as a unique identifier\n",
        "\n",
        "IBM.isnull().any()"
      ],
      "execution_count": null,
      "outputs": [
        {
          "output_type": "stream",
          "text": [
            "(1470, 35)\n"
          ],
          "name": "stdout"
        },
        {
          "output_type": "execute_result",
          "data": {
            "text/plain": [
              "Age                         False\n",
              "Attrition                   False\n",
              "BusinessTravel              False\n",
              "DailyRate                   False\n",
              "Department                  False\n",
              "DistanceFromHome            False\n",
              "Education                   False\n",
              "EducationField              False\n",
              "EmployeeCount               False\n",
              "EmployeeNumber              False\n",
              "EnvironmentSatisfaction     False\n",
              "Gender                      False\n",
              "HourlyRate                  False\n",
              "JobInvolvement              False\n",
              "JobLevel                    False\n",
              "JobRole                     False\n",
              "JobSatisfaction             False\n",
              "MaritalStatus               False\n",
              "MonthlyIncome               False\n",
              "MonthlyRate                 False\n",
              "NumCompaniesWorked          False\n",
              "Over18                      False\n",
              "OverTime                    False\n",
              "PercentSalaryHike           False\n",
              "PerformanceRating           False\n",
              "RelationshipSatisfaction    False\n",
              "StandardHours               False\n",
              "StockOptionLevel            False\n",
              "TotalWorkingYears           False\n",
              "TrainingTimesLastYear       False\n",
              "WorkLifeBalance             False\n",
              "YearsAtCompany              False\n",
              "YearsInCurrentRole          False\n",
              "YearsSinceLastPromotion     False\n",
              "YearsWithCurrManager        False\n",
              "dtype: bool"
            ]
          },
          "metadata": {
            "tags": []
          },
          "execution_count": 7
        }
      ]
    },
    {
      "cell_type": "markdown",
      "metadata": {
        "id": "00ZMQ8Uk7Jqu"
      },
      "source": [
        "###Hypothesis 1:\n",
        "There is a statistically significant difference between male and female employees in Monthly Income"
      ]
    },
    {
      "cell_type": "code",
      "metadata": {
        "id": "LB7eScr_6gbq",
        "colab": {
          "base_uri": "https://localhost:8080/",
          "height": 482
        },
        "outputId": "7d7f35a5-4ac6-4356-fc25-33d84cf2dbc8"
      },
      "source": [
        "#create two dataframes, one with all the male employees and another with all female employees\n",
        "Males = IBM[IBM['Gender']=='Male']\n",
        "Females = IBM[IBM['Gender']=='Female']\n",
        "\n",
        "print(Males['MonthlyIncome'].median())\n",
        "print(Females['MonthlyIncome'].median())\n",
        "\n",
        "print(Males.shape)\n",
        "print(Females.shape)\n",
        "\n",
        "print('The sample sizes are 882 and 588. These are large enough to proceed.')\n",
        "\n",
        "#Check for normal distribution\n",
        "\n",
        "plt.hist(Males['MonthlyIncome'], alpha = .5, label = 'Males')\n",
        "plt.hist(Females['MonthlyIncome'], alpha = .5, label = 'Females')\n",
        "plt.xlabel('Monthly Income')\n",
        "plt.ylabel('Number of Employees')\n",
        "plt.title('Income Distribution')\n",
        "plt.legend()\n",
        "plt.show()\n",
        "\n",
        "\n",
        "# This does not look like a normal distribution\n",
        "\n",
        "print(stats.describe(Males['MonthlyIncome']))\n",
        "print(stats.describe(Females['MonthlyIncome']))\n",
        "\n",
        "\n",
        "#Skew and Kurtosis numbers are close to normal, but the histogram is far from normal\n",
        "print(stats.shapiro(Males['MonthlyIncome']))\n",
        "print(stats.shapiro(Females['MonthlyIncome']))\n",
        "\n",
        "\n",
        "#The histogram does not look normal. And the Shapiro results indicate that \n",
        "#it is not normal\n",
        "#Conduct kruskal: \n",
        "print(stats.kruskal(\n",
        "    Males['MonthlyIncome'],\n",
        "    Females['MonthlyIncome']))\n",
        "\n",
        "#The p value is too high for kruskal to reject the null\n",
        "print(stats.mannwhitneyu(Males['MonthlyIncome'], Females['MonthlyIncome']))"
      ],
      "execution_count": null,
      "outputs": [
        {
          "output_type": "stream",
          "text": [
            "4837.5\n",
            "5081.5\n",
            "(882, 35)\n",
            "(588, 35)\n",
            "The sample sizes are 882 and 588. These are large enough to proceed.\n"
          ],
          "name": "stdout"
        },
        {
          "output_type": "display_data",
          "data": {
            "image/png": "[encoded data removed]",
            "text/plain": [
              "<Figure size 432x288 with 1 Axes>"
            ]
          },
          "metadata": {
            "tags": [],
            "needs_background": "light"
          }
        },
        {
          "output_type": "stream",
          "text": [
            "DescribeResult(nobs=882, minmax=(1009, 19999), mean=6380.507936507936, variance=22229872.540799595, skewness=1.4402980490941728, kurtosis=1.2428730146891933)\n",
            "DescribeResult(nobs=588, minmax=(1129, 19973), mean=6686.566326530612, variance=22048739.251129925, skewness=1.265405982460292, kurtosis=0.6588763943837175)\n",
            "(0.8169718384742737, 1.709933327621381e-30)\n",
            "(0.8416616916656494, 9.378564564919968e-24)\n",
            "KruskalResult(statistic=2.9031804931215315, pvalue=0.08840496463107667)\n",
            "MannwhitneyuResult(statistic=245722.5, pvalue=0.044208341633010594)\n"
          ],
          "name": "stdout"
        }
      ]
    },
    {
      "cell_type": "markdown",
      "metadata": {
        "id": "p7HXNyJu9KEv"
      },
      "source": [
        "The histogram shows that this is not normally distributed. The Kruskal test tells us that we cannot reject the null and the Mann Whitney U p value is so close to .05. I do not think this difference is significant. It does not appear that there is a statistically significance difference between men and women's monthly incomes. In the future, I could drop the people who make A LOT of money and see if that makes a difference. It is possible that these outliers are altering the results."
      ]
    },
    {
      "cell_type": "markdown",
      "metadata": {
        "id": "svWlj4hN9e1k"
      },
      "source": [
        "###Hypothesis 2:\n",
        "There is a statistically significant difference between men and women in job satisfaction"
      ]
    },
    {
      "cell_type": "code",
      "metadata": {
        "id": "n0YqNetk9X90",
        "colab": {
          "base_uri": "https://localhost:8080/",
          "height": 431
        },
        "outputId": "0bedd51f-8690-4016-feae-1557326c1c89"
      },
      "source": [
        "#Check for normal distribution\n",
        "\n",
        "plt.hist(Males['JobSatisfaction'], alpha = .5, label = 'Males')\n",
        "plt.hist(Females['JobSatisfaction'], alpha = .5, label = 'Females')\n",
        "plt.xlabel('Job Satisfaction Level')\n",
        "plt.ylabel('Number of Employees')\n",
        "plt.title('Job Satisfaction Distribution')\n",
        "plt.legend()\n",
        "plt.show()\n",
        "\n",
        "print(Males['JobSatisfaction'].median())\n",
        "print(Females['JobSatisfaction'].median())\n",
        "\n",
        "\n",
        "# Job satisfaction is ordinal so the histogram is not too helpful\n",
        "#Calculate the skew, kurtosis, and W to determine if we can proceed\n",
        "\n",
        "print(stats.describe(Males['JobSatisfaction']))\n",
        "print(stats.describe(Females['JobSatisfaction']))\n",
        "#Skew and Kurtosis numbers are close enough to normal\n",
        "\n",
        "\n",
        "print(stats.shapiro(Males['JobSatisfaction']))\n",
        "print(stats.shapiro(Females['JobSatisfaction']))\n",
        "#The histogram is not very helpful and the shapiro results indicate non-normality, but\n",
        "#The skew and kurtosis numbers are good. Let's do Kruskal instead of a t test to be safe:\n",
        "\n",
        "print(stats.kruskal(\n",
        "    Males['JobSatisfaction'],\n",
        "    Females['JobSatisfaction']))\n",
        "\n",
        "#And a Mann Whitney U test:\n",
        "print(stats.mannwhitneyu(Males['JobSatisfaction'], Females['JobSatisfaction']))"
      ],
      "execution_count": null,
      "outputs": [
        {
          "output_type": "display_data",
          "data": {
            "image/png": "[encoded data removed]",
            "text/plain": [
              "<Figure size 432x288 with 1 Axes>"
            ]
          },
          "metadata": {
            "tags": [],
            "needs_background": "light"
          }
        },
        {
          "output_type": "stream",
          "text": [
            "3.0\n",
            "3.0\n",
            "DescribeResult(nobs=882, minmax=(1, 4), mean=2.758503401360544, variance=1.2253816396024926, skewness=-0.3670963806181623, kurtosis=-1.2089087287406801)\n",
            "DescribeResult(nobs=588, minmax=(1, 4), mean=2.683673469387755, variance=1.2013002816117928, skewness=-0.274792780632431, kurtosis=-1.2330637196398142)\n",
            "(0.8407873511314392, 8.381994387216348e-29)\n",
            "(0.8519268035888672, 4.750763024855379e-23)\n",
            "KruskalResult(statistic=1.8645854293926603, pvalue=0.17209650750304156)\n",
            "MannwhitneyuResult(statistic=248820.5, pvalue=0.0860584779427192)\n"
          ],
          "name": "stdout"
        }
      ]
    },
    {
      "cell_type": "markdown",
      "metadata": {
        "id": "K_WBpHxj_84Q"
      },
      "source": [
        "The distributions look similar (though there are more male employees), the p values are too high, and the bloxplot illustrates that there is no difference. Altogether, the results indicate that I cannot reject the null. There is no statistically significance difference between men and women in terms of job satisfaction. Perhaps the result would have been different if job satisfaction had been measured on a longer scale, from perhaps 1-10 instead of 1-4."
      ]
    },
    {
      "cell_type": "markdown",
      "metadata": {
        "id": "xiahT1YKAude"
      },
      "source": [
        "###Hypothesis 3:\n",
        "There is a significant difference between male and female employees in their percent salary increases"
      ]
    },
    {
      "cell_type": "code",
      "metadata": {
        "id": "gSjTB_0k_e8P",
        "colab": {
          "base_uri": "https://localhost:8080/",
          "height": 431
        },
        "outputId": "39916219-1a1e-4117-e82c-03a15c339d9d"
      },
      "source": [
        "#First, check to make sure the variable is normally distributed:\n",
        "plt.hist(Males['PercentSalaryHike'], alpha = .5, label = 'Males')\n",
        "plt.hist(Females['PercentSalaryHike'], alpha = .5, label = 'Females')\n",
        "plt.xlabel('Percent Salary Increase')\n",
        "plt.ylabel('Number of Employees')\n",
        "plt.title('Distribution For Percent Salary Increase')\n",
        "plt.legend()\n",
        "plt.show()\n",
        "\n",
        "\n",
        "print(Males['PercentSalaryHike'].median())\n",
        "print(Females['PercentSalaryHike'].median())\n",
        "#look at skew and kurtosis\n",
        "print(stats.describe(Males['PercentSalaryHike']))\n",
        "print(stats.describe(Females['PercentSalaryHike']))\n",
        "\n",
        "#get shapiro\n",
        "print(stats.shapiro(Males['PercentSalaryHike']))\n",
        "print(stats.shapiro(Females['PercentSalaryHike']))\n",
        "\n",
        "# let's look at the Kruskal\n",
        "print(stats.kruskal(\n",
        "    Males['PercentSalaryHike'],\n",
        "    Females['PercentSalaryHike']))\n",
        "\n",
        "\n",
        "print(stats.mannwhitneyu(Males['PercentSalaryHike'], Females['PercentSalaryHike']))"
      ],
      "execution_count": null,
      "outputs": [
        {
          "output_type": "display_data",
          "data": {
            "image/png": "[encoded data removed]",
            "text/plain": [
              "<Figure size 432x288 with 1 Axes>"
            ]
          },
          "metadata": {
            "tags": [],
            "needs_background": "light"
          }
        },
        {
          "output_type": "stream",
          "text": [
            "14.0\n",
            "14.0\n",
            "DescribeResult(nobs=882, minmax=(11, 25), mean=15.217687074829932, variance=13.210220296972365, skewness=0.8449800914788632, kurtosis=-0.2362135585341516)\n",
            "DescribeResult(nobs=588, minmax=(11, 25), mean=15.197278911564625, variance=13.69525663757837, skewness=0.7853167355405474, kurtosis=-0.4000754802981965)\n",
            "(0.900299608707428, 1.688561185246645e-23)\n",
            "(0.8994561433792114, 3.348263751443677e-19)\n",
            "KruskalResult(statistic=0.14404550476354075, pvalue=0.7042919014756945)\n",
            "MannwhitneyuResult(statistic=256300.0, pvalue=0.3521693702696799)\n"
          ],
          "name": "stdout"
        }
      ]
    },
    {
      "cell_type": "markdown",
      "metadata": {
        "id": "fNrlf717BYhb"
      },
      "source": [
        "The histogram indicates that this is not normally distributed, but the skew and kurtosis numbers are fine. The shapiro results and the histogram lead me to think that this is not normally distributed, so it would be better to do a non-parametric test. The krusal results indicate that I cannot reject the null that the data samples are drawn from the same distribution. The Mann Whitney U results indicate that the p value is too high to be able to reject the null, The results indicate that there is no statistically significant difference between men and women in terms of Percent Salary hike."
      ]
    },
    {
      "cell_type": "markdown",
      "metadata": {
        "id": "vEyIKw32BldD"
      },
      "source": [
        "###Conclusion\n",
        "I could not reject the null for all three hypotheses. However, this is actually a positive result because it indicates that the employees are not discriminated based on gender. The results indicate that there are no statistically significant differences between male and female employees in terms of their monthly income, job satisfaction, and percent salary increases.\n",
        "\n",
        "In the future, I would like to examine whether certain positions experience higher job satisfaction levels. It would also be interesting to remove the outliers and examine whether that makes a difference in the analysis."
      ]
    }
  ]
}